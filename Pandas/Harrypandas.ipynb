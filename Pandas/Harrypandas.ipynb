{
 "cells": [
  {
   "cell_type": "code",
   "execution_count": 1,
   "metadata": {},
   "outputs": [],
   "source": [
    "import numpy as np\n",
    "import pandas as pd \n"
   ]
  },
  {
   "cell_type": "code",
   "execution_count": 7,
   "metadata": {},
   "outputs": [],
   "source": [
    "dict1={\n",
    "    \"name\":[\"vaishnavi\",\"Prathyarthi\",\"kiran\",\"Bharathi\"],\n",
    "    \"marks\":[34,56,78,0],\n",
    "    \"city\":[\"Kolkata\",\"Mumbai\",\"Chennai\",\"Rampura\"]\n",
    "}"
   ]
  },
  {
   "cell_type": "code",
   "execution_count": 3,
   "metadata": {},
   "outputs": [
    {
     "data": {
      "text/plain": [
       "{'name': ['vaishnavi', 'Prathyarthi', 'kiran', 'Bharathi'],\n",
       " 'marks': [34, 56, 78],\n",
       " 'city': ['Kolkata', 'Mumbai', 'Chennai', 'Rampura']}"
      ]
     },
     "execution_count": 3,
     "metadata": {},
     "output_type": "execute_result"
    }
   ],
   "source": [
    "dict1"
   ]
  },
  {
   "cell_type": "code",
   "execution_count": 8,
   "metadata": {},
   "outputs": [],
   "source": [
    "df=pd.DataFrame(dict1)"
   ]
  },
  {
   "cell_type": "code",
   "execution_count": 9,
   "metadata": {},
   "outputs": [
    {
     "data": {
      "text/html": [
       "<div>\n",
       "<style scoped>\n",
       "    .dataframe tbody tr th:only-of-type {\n",
       "        vertical-align: middle;\n",
       "    }\n",
       "\n",
       "    .dataframe tbody tr th {\n",
       "        vertical-align: top;\n",
       "    }\n",
       "\n",
       "    .dataframe thead th {\n",
       "        text-align: right;\n",
       "    }\n",
       "</style>\n",
       "<table border=\"1\" class=\"dataframe\">\n",
       "  <thead>\n",
       "    <tr style=\"text-align: right;\">\n",
       "      <th></th>\n",
       "      <th>name</th>\n",
       "      <th>marks</th>\n",
       "      <th>city</th>\n",
       "    </tr>\n",
       "  </thead>\n",
       "  <tbody>\n",
       "    <tr>\n",
       "      <th>0</th>\n",
       "      <td>vaishnavi</td>\n",
       "      <td>34</td>\n",
       "      <td>Kolkata</td>\n",
       "    </tr>\n",
       "    <tr>\n",
       "      <th>1</th>\n",
       "      <td>Prathyarthi</td>\n",
       "      <td>56</td>\n",
       "      <td>Mumbai</td>\n",
       "    </tr>\n",
       "    <tr>\n",
       "      <th>2</th>\n",
       "      <td>kiran</td>\n",
       "      <td>78</td>\n",
       "      <td>Chennai</td>\n",
       "    </tr>\n",
       "    <tr>\n",
       "      <th>3</th>\n",
       "      <td>Bharathi</td>\n",
       "      <td>0</td>\n",
       "      <td>Rampura</td>\n",
       "    </tr>\n",
       "  </tbody>\n",
       "</table>\n",
       "</div>"
      ],
      "text/plain": [
       "          name  marks     city\n",
       "0    vaishnavi     34  Kolkata\n",
       "1  Prathyarthi     56   Mumbai\n",
       "2        kiran     78  Chennai\n",
       "3     Bharathi      0  Rampura"
      ]
     },
     "execution_count": 9,
     "metadata": {},
     "output_type": "execute_result"
    }
   ],
   "source": [
    "df"
   ]
  },
  {
   "cell_type": "code",
   "execution_count": 11,
   "metadata": {},
   "outputs": [],
   "source": [
    "df.to_csv(\"Friends.csv\")"
   ]
  },
  {
   "cell_type": "code",
   "execution_count": 12,
   "metadata": {},
   "outputs": [],
   "source": [
    "df.to_csv(\"Friends_index.csv\",index=False)"
   ]
  },
  {
   "cell_type": "code",
   "execution_count": 13,
   "metadata": {},
   "outputs": [
    {
     "data": {
      "text/html": [
       "<div>\n",
       "<style scoped>\n",
       "    .dataframe tbody tr th:only-of-type {\n",
       "        vertical-align: middle;\n",
       "    }\n",
       "\n",
       "    .dataframe tbody tr th {\n",
       "        vertical-align: top;\n",
       "    }\n",
       "\n",
       "    .dataframe thead th {\n",
       "        text-align: right;\n",
       "    }\n",
       "</style>\n",
       "<table border=\"1\" class=\"dataframe\">\n",
       "  <thead>\n",
       "    <tr style=\"text-align: right;\">\n",
       "      <th></th>\n",
       "      <th>name</th>\n",
       "      <th>marks</th>\n",
       "      <th>city</th>\n",
       "    </tr>\n",
       "  </thead>\n",
       "  <tbody>\n",
       "    <tr>\n",
       "      <th>0</th>\n",
       "      <td>vaishnavi</td>\n",
       "      <td>34</td>\n",
       "      <td>Kolkata</td>\n",
       "    </tr>\n",
       "    <tr>\n",
       "      <th>1</th>\n",
       "      <td>Prathyarthi</td>\n",
       "      <td>56</td>\n",
       "      <td>Mumbai</td>\n",
       "    </tr>\n",
       "  </tbody>\n",
       "</table>\n",
       "</div>"
      ],
      "text/plain": [
       "          name  marks     city\n",
       "0    vaishnavi     34  Kolkata\n",
       "1  Prathyarthi     56   Mumbai"
      ]
     },
     "execution_count": 13,
     "metadata": {},
     "output_type": "execute_result"
    }
   ],
   "source": [
    "df.head(2)"
   ]
  },
  {
   "cell_type": "code",
   "execution_count": 14,
   "metadata": {},
   "outputs": [
    {
     "data": {
      "text/html": [
       "<div>\n",
       "<style scoped>\n",
       "    .dataframe tbody tr th:only-of-type {\n",
       "        vertical-align: middle;\n",
       "    }\n",
       "\n",
       "    .dataframe tbody tr th {\n",
       "        vertical-align: top;\n",
       "    }\n",
       "\n",
       "    .dataframe thead th {\n",
       "        text-align: right;\n",
       "    }\n",
       "</style>\n",
       "<table border=\"1\" class=\"dataframe\">\n",
       "  <thead>\n",
       "    <tr style=\"text-align: right;\">\n",
       "      <th></th>\n",
       "      <th>name</th>\n",
       "      <th>marks</th>\n",
       "      <th>city</th>\n",
       "    </tr>\n",
       "  </thead>\n",
       "  <tbody>\n",
       "    <tr>\n",
       "      <th>2</th>\n",
       "      <td>kiran</td>\n",
       "      <td>78</td>\n",
       "      <td>Chennai</td>\n",
       "    </tr>\n",
       "    <tr>\n",
       "      <th>3</th>\n",
       "      <td>Bharathi</td>\n",
       "      <td>0</td>\n",
       "      <td>Rampura</td>\n",
       "    </tr>\n",
       "  </tbody>\n",
       "</table>\n",
       "</div>"
      ],
      "text/plain": [
       "       name  marks     city\n",
       "2     kiran     78  Chennai\n",
       "3  Bharathi      0  Rampura"
      ]
     },
     "execution_count": 14,
     "metadata": {},
     "output_type": "execute_result"
    }
   ],
   "source": [
    "df.tail(2)"
   ]
  },
  {
   "cell_type": "code",
   "execution_count": 15,
   "metadata": {},
   "outputs": [
    {
     "data": {
      "text/html": [
       "<div>\n",
       "<style scoped>\n",
       "    .dataframe tbody tr th:only-of-type {\n",
       "        vertical-align: middle;\n",
       "    }\n",
       "\n",
       "    .dataframe tbody tr th {\n",
       "        vertical-align: top;\n",
       "    }\n",
       "\n",
       "    .dataframe thead th {\n",
       "        text-align: right;\n",
       "    }\n",
       "</style>\n",
       "<table border=\"1\" class=\"dataframe\">\n",
       "  <thead>\n",
       "    <tr style=\"text-align: right;\">\n",
       "      <th></th>\n",
       "      <th>marks</th>\n",
       "    </tr>\n",
       "  </thead>\n",
       "  <tbody>\n",
       "    <tr>\n",
       "      <th>count</th>\n",
       "      <td>4.0000</td>\n",
       "    </tr>\n",
       "    <tr>\n",
       "      <th>mean</th>\n",
       "      <td>42.0000</td>\n",
       "    </tr>\n",
       "    <tr>\n",
       "      <th>std</th>\n",
       "      <td>33.2666</td>\n",
       "    </tr>\n",
       "    <tr>\n",
       "      <th>min</th>\n",
       "      <td>0.0000</td>\n",
       "    </tr>\n",
       "    <tr>\n",
       "      <th>25%</th>\n",
       "      <td>25.5000</td>\n",
       "    </tr>\n",
       "    <tr>\n",
       "      <th>50%</th>\n",
       "      <td>45.0000</td>\n",
       "    </tr>\n",
       "    <tr>\n",
       "      <th>75%</th>\n",
       "      <td>61.5000</td>\n",
       "    </tr>\n",
       "    <tr>\n",
       "      <th>max</th>\n",
       "      <td>78.0000</td>\n",
       "    </tr>\n",
       "  </tbody>\n",
       "</table>\n",
       "</div>"
      ],
      "text/plain": [
       "         marks\n",
       "count   4.0000\n",
       "mean   42.0000\n",
       "std    33.2666\n",
       "min     0.0000\n",
       "25%    25.5000\n",
       "50%    45.0000\n",
       "75%    61.5000\n",
       "max    78.0000"
      ]
     },
     "execution_count": 15,
     "metadata": {},
     "output_type": "execute_result"
    }
   ],
   "source": [
    "df.describe()"
   ]
  },
  {
   "cell_type": "code",
   "execution_count": 16,
   "metadata": {},
   "outputs": [],
   "source": [
    "vaish=pd.read_csv(\"Friends.csv\")"
   ]
  },
  {
   "cell_type": "code",
   "execution_count": 17,
   "metadata": {},
   "outputs": [
    {
     "data": {
      "text/html": [
       "<div>\n",
       "<style scoped>\n",
       "    .dataframe tbody tr th:only-of-type {\n",
       "        vertical-align: middle;\n",
       "    }\n",
       "\n",
       "    .dataframe tbody tr th {\n",
       "        vertical-align: top;\n",
       "    }\n",
       "\n",
       "    .dataframe thead th {\n",
       "        text-align: right;\n",
       "    }\n",
       "</style>\n",
       "<table border=\"1\" class=\"dataframe\">\n",
       "  <thead>\n",
       "    <tr style=\"text-align: right;\">\n",
       "      <th></th>\n",
       "      <th>Unnamed: 0</th>\n",
       "      <th>name</th>\n",
       "      <th>marks</th>\n",
       "      <th>city</th>\n",
       "    </tr>\n",
       "  </thead>\n",
       "  <tbody>\n",
       "    <tr>\n",
       "      <th>0</th>\n",
       "      <td>0</td>\n",
       "      <td>vaishnavi</td>\n",
       "      <td>34</td>\n",
       "      <td>Kolkata</td>\n",
       "    </tr>\n",
       "    <tr>\n",
       "      <th>1</th>\n",
       "      <td>1</td>\n",
       "      <td>Prathyarthi</td>\n",
       "      <td>56</td>\n",
       "      <td>Mumbai</td>\n",
       "    </tr>\n",
       "    <tr>\n",
       "      <th>2</th>\n",
       "      <td>2</td>\n",
       "      <td>kiran</td>\n",
       "      <td>78</td>\n",
       "      <td>Chennai</td>\n",
       "    </tr>\n",
       "    <tr>\n",
       "      <th>3</th>\n",
       "      <td>3</td>\n",
       "      <td>Bharathi</td>\n",
       "      <td>0</td>\n",
       "      <td>Rampura</td>\n",
       "    </tr>\n",
       "  </tbody>\n",
       "</table>\n",
       "</div>"
      ],
      "text/plain": [
       "   Unnamed: 0         name  marks     city\n",
       "0           0    vaishnavi     34  Kolkata\n",
       "1           1  Prathyarthi     56   Mumbai\n",
       "2           2        kiran     78  Chennai\n",
       "3           3     Bharathi      0  Rampura"
      ]
     },
     "execution_count": 17,
     "metadata": {},
     "output_type": "execute_result"
    }
   ],
   "source": [
    "vaish"
   ]
  },
  {
   "cell_type": "code",
   "execution_count": 18,
   "metadata": {},
   "outputs": [
    {
     "data": {
      "text/plain": [
       "0"
      ]
     },
     "execution_count": 18,
     "metadata": {},
     "output_type": "execute_result"
    }
   ],
   "source": [
    "vaish[\"marks\"][3]"
   ]
  },
  {
   "cell_type": "code",
   "execution_count": 19,
   "metadata": {},
   "outputs": [
    {
     "data": {
      "text/plain": [
       "'kiran'"
      ]
     },
     "execution_count": 19,
     "metadata": {},
     "output_type": "execute_result"
    }
   ],
   "source": [
    "vaish[\"name\"][2]"
   ]
  },
  {
   "cell_type": "code",
   "execution_count": 20,
   "metadata": {},
   "outputs": [
    {
     "name": "stderr",
     "output_type": "stream",
     "text": [
      "C:\\Users\\vaish\\AppData\\Local\\Temp\\ipykernel_20984\\2618029238.py:1: SettingWithCopyWarning: \n",
      "A value is trying to be set on a copy of a slice from a DataFrame\n",
      "\n",
      "See the caveats in the documentation: https://pandas.pydata.org/pandas-docs/stable/user_guide/indexing.html#returning-a-view-versus-a-copy\n",
      "  vaish[\"name\"][2]=\"Kishore\"\n"
     ]
    }
   ],
   "source": [
    "vaish[\"name\"][2]=\"Kishore\""
   ]
  },
  {
   "cell_type": "code",
   "execution_count": 21,
   "metadata": {},
   "outputs": [
    {
     "data": {
      "text/html": [
       "<div>\n",
       "<style scoped>\n",
       "    .dataframe tbody tr th:only-of-type {\n",
       "        vertical-align: middle;\n",
       "    }\n",
       "\n",
       "    .dataframe tbody tr th {\n",
       "        vertical-align: top;\n",
       "    }\n",
       "\n",
       "    .dataframe thead th {\n",
       "        text-align: right;\n",
       "    }\n",
       "</style>\n",
       "<table border=\"1\" class=\"dataframe\">\n",
       "  <thead>\n",
       "    <tr style=\"text-align: right;\">\n",
       "      <th></th>\n",
       "      <th>Unnamed: 0</th>\n",
       "      <th>name</th>\n",
       "      <th>marks</th>\n",
       "      <th>city</th>\n",
       "    </tr>\n",
       "  </thead>\n",
       "  <tbody>\n",
       "    <tr>\n",
       "      <th>0</th>\n",
       "      <td>0</td>\n",
       "      <td>vaishnavi</td>\n",
       "      <td>34</td>\n",
       "      <td>Kolkata</td>\n",
       "    </tr>\n",
       "    <tr>\n",
       "      <th>1</th>\n",
       "      <td>1</td>\n",
       "      <td>Prathyarthi</td>\n",
       "      <td>56</td>\n",
       "      <td>Mumbai</td>\n",
       "    </tr>\n",
       "    <tr>\n",
       "      <th>2</th>\n",
       "      <td>2</td>\n",
       "      <td>Kishore</td>\n",
       "      <td>78</td>\n",
       "      <td>Chennai</td>\n",
       "    </tr>\n",
       "    <tr>\n",
       "      <th>3</th>\n",
       "      <td>3</td>\n",
       "      <td>Bharathi</td>\n",
       "      <td>0</td>\n",
       "      <td>Rampura</td>\n",
       "    </tr>\n",
       "  </tbody>\n",
       "</table>\n",
       "</div>"
      ],
      "text/plain": [
       "   Unnamed: 0         name  marks     city\n",
       "0           0    vaishnavi     34  Kolkata\n",
       "1           1  Prathyarthi     56   Mumbai\n",
       "2           2      Kishore     78  Chennai\n",
       "3           3     Bharathi      0  Rampura"
      ]
     },
     "execution_count": 21,
     "metadata": {},
     "output_type": "execute_result"
    }
   ],
   "source": [
    "vaish"
   ]
  },
  {
   "cell_type": "code",
   "execution_count": 22,
   "metadata": {},
   "outputs": [],
   "source": [
    "vaish.index=['a','b','c','d']"
   ]
  },
  {
   "cell_type": "code",
   "execution_count": 28,
   "metadata": {},
   "outputs": [
    {
     "data": {
      "text/html": [
       "<div>\n",
       "<style scoped>\n",
       "    .dataframe tbody tr th:only-of-type {\n",
       "        vertical-align: middle;\n",
       "    }\n",
       "\n",
       "    .dataframe tbody tr th {\n",
       "        vertical-align: top;\n",
       "    }\n",
       "\n",
       "    .dataframe thead th {\n",
       "        text-align: right;\n",
       "    }\n",
       "</style>\n",
       "<table border=\"1\" class=\"dataframe\">\n",
       "  <thead>\n",
       "    <tr style=\"text-align: right;\">\n",
       "      <th></th>\n",
       "      <th>Unnamed: 0</th>\n",
       "      <th>name</th>\n",
       "      <th>marks</th>\n",
       "      <th>city</th>\n",
       "    </tr>\n",
       "  </thead>\n",
       "  <tbody>\n",
       "    <tr>\n",
       "      <th>a</th>\n",
       "      <td>0</td>\n",
       "      <td>vaishnavi</td>\n",
       "      <td>34</td>\n",
       "      <td>Kolkata</td>\n",
       "    </tr>\n",
       "    <tr>\n",
       "      <th>b</th>\n",
       "      <td>1</td>\n",
       "      <td>Prathyarthi</td>\n",
       "      <td>56</td>\n",
       "      <td>Mumbai</td>\n",
       "    </tr>\n",
       "    <tr>\n",
       "      <th>c</th>\n",
       "      <td>2</td>\n",
       "      <td>Kishore</td>\n",
       "      <td>78</td>\n",
       "      <td>Chennai</td>\n",
       "    </tr>\n",
       "    <tr>\n",
       "      <th>d</th>\n",
       "      <td>3</td>\n",
       "      <td>Bharathi</td>\n",
       "      <td>0</td>\n",
       "      <td>Rampura</td>\n",
       "    </tr>\n",
       "  </tbody>\n",
       "</table>\n",
       "</div>"
      ],
      "text/plain": [
       "   Unnamed: 0         name  marks     city\n",
       "a           0    vaishnavi     34  Kolkata\n",
       "b           1  Prathyarthi     56   Mumbai\n",
       "c           2      Kishore     78  Chennai\n",
       "d           3     Bharathi      0  Rampura"
      ]
     },
     "execution_count": 28,
     "metadata": {},
     "output_type": "execute_result"
    }
   ],
   "source": [
    "vaish"
   ]
  },
  {
   "cell_type": "markdown",
   "metadata": {},
   "source": [
    "Series is a data structure in pandas , wen u give data it v ll make and series nd store it "
   ]
  },
  {
   "cell_type": "code",
   "execution_count": 29,
   "metadata": {},
   "outputs": [],
   "source": [
    "ser=pd.Series(np.random.rand(36))"
   ]
  },
  {
   "cell_type": "code",
   "execution_count": 30,
   "metadata": {},
   "outputs": [
    {
     "data": {
      "text/plain": [
       "pandas.core.series.Series"
      ]
     },
     "execution_count": 30,
     "metadata": {},
     "output_type": "execute_result"
    }
   ],
   "source": [
    "type(ser)"
   ]
  },
  {
   "cell_type": "code",
   "execution_count": 31,
   "metadata": {},
   "outputs": [
    {
     "data": {
      "text/plain": [
       "0     0.363243\n",
       "1     0.429317\n",
       "2     0.147085\n",
       "3     0.970836\n",
       "4     0.359376\n",
       "5     0.252472\n",
       "6     0.369790\n",
       "7     0.331912\n",
       "8     0.215872\n",
       "9     0.165177\n",
       "10    0.447324\n",
       "11    0.574849\n",
       "12    0.750047\n",
       "13    0.577361\n",
       "14    0.450417\n",
       "15    0.385010\n",
       "16    0.191290\n",
       "17    0.173954\n",
       "18    0.783427\n",
       "19    0.024761\n",
       "20    0.470844\n",
       "21    0.172921\n",
       "22    0.741047\n",
       "23    0.206159\n",
       "24    0.837381\n",
       "25    0.188483\n",
       "26    0.803828\n",
       "27    0.556461\n",
       "28    0.140107\n",
       "29    0.322754\n",
       "30    0.470463\n",
       "31    0.240022\n",
       "32    0.399747\n",
       "33    0.137254\n",
       "34    0.546584\n",
       "35    0.060278\n",
       "dtype: float64"
      ]
     },
     "execution_count": 31,
     "metadata": {},
     "output_type": "execute_result"
    }
   ],
   "source": [
    "ser"
   ]
  },
  {
   "cell_type": "code",
   "execution_count": 34,
   "metadata": {},
   "outputs": [],
   "source": [
    "newdf=pd.DataFrame(np.random.randn(334,5),index=np.arange(334))"
   ]
  },
  {
   "cell_type": "code",
   "execution_count": 35,
   "metadata": {},
   "outputs": [
    {
     "data": {
      "text/html": [
       "<div>\n",
       "<style scoped>\n",
       "    .dataframe tbody tr th:only-of-type {\n",
       "        vertical-align: middle;\n",
       "    }\n",
       "\n",
       "    .dataframe tbody tr th {\n",
       "        vertical-align: top;\n",
       "    }\n",
       "\n",
       "    .dataframe thead th {\n",
       "        text-align: right;\n",
       "    }\n",
       "</style>\n",
       "<table border=\"1\" class=\"dataframe\">\n",
       "  <thead>\n",
       "    <tr style=\"text-align: right;\">\n",
       "      <th></th>\n",
       "      <th>0</th>\n",
       "      <th>1</th>\n",
       "      <th>2</th>\n",
       "      <th>3</th>\n",
       "      <th>4</th>\n",
       "    </tr>\n",
       "  </thead>\n",
       "  <tbody>\n",
       "    <tr>\n",
       "      <th>0</th>\n",
       "      <td>0.759486</td>\n",
       "      <td>0.125970</td>\n",
       "      <td>1.381771</td>\n",
       "      <td>0.067031</td>\n",
       "      <td>-0.063502</td>\n",
       "    </tr>\n",
       "    <tr>\n",
       "      <th>1</th>\n",
       "      <td>-1.078297</td>\n",
       "      <td>-0.226563</td>\n",
       "      <td>1.548660</td>\n",
       "      <td>-0.744822</td>\n",
       "      <td>1.219025</td>\n",
       "    </tr>\n",
       "    <tr>\n",
       "      <th>2</th>\n",
       "      <td>1.522011</td>\n",
       "      <td>0.362544</td>\n",
       "      <td>-1.134161</td>\n",
       "      <td>-2.237881</td>\n",
       "      <td>0.695436</td>\n",
       "    </tr>\n",
       "    <tr>\n",
       "      <th>3</th>\n",
       "      <td>-1.615695</td>\n",
       "      <td>-0.542201</td>\n",
       "      <td>-0.959542</td>\n",
       "      <td>0.815509</td>\n",
       "      <td>-0.035562</td>\n",
       "    </tr>\n",
       "    <tr>\n",
       "      <th>4</th>\n",
       "      <td>-1.071682</td>\n",
       "      <td>-1.656209</td>\n",
       "      <td>1.395331</td>\n",
       "      <td>0.189394</td>\n",
       "      <td>2.265449</td>\n",
       "    </tr>\n",
       "    <tr>\n",
       "      <th>...</th>\n",
       "      <td>...</td>\n",
       "      <td>...</td>\n",
       "      <td>...</td>\n",
       "      <td>...</td>\n",
       "      <td>...</td>\n",
       "    </tr>\n",
       "    <tr>\n",
       "      <th>329</th>\n",
       "      <td>1.565215</td>\n",
       "      <td>2.942341</td>\n",
       "      <td>1.567243</td>\n",
       "      <td>-1.612987</td>\n",
       "      <td>-0.688493</td>\n",
       "    </tr>\n",
       "    <tr>\n",
       "      <th>330</th>\n",
       "      <td>-0.810758</td>\n",
       "      <td>0.575572</td>\n",
       "      <td>1.645722</td>\n",
       "      <td>-1.215276</td>\n",
       "      <td>-0.850154</td>\n",
       "    </tr>\n",
       "    <tr>\n",
       "      <th>331</th>\n",
       "      <td>2.497891</td>\n",
       "      <td>-0.361384</td>\n",
       "      <td>-1.369214</td>\n",
       "      <td>0.631368</td>\n",
       "      <td>0.055496</td>\n",
       "    </tr>\n",
       "    <tr>\n",
       "      <th>332</th>\n",
       "      <td>-1.990923</td>\n",
       "      <td>0.508848</td>\n",
       "      <td>-0.202778</td>\n",
       "      <td>-0.184761</td>\n",
       "      <td>1.081045</td>\n",
       "    </tr>\n",
       "    <tr>\n",
       "      <th>333</th>\n",
       "      <td>1.184133</td>\n",
       "      <td>0.694406</td>\n",
       "      <td>-0.031188</td>\n",
       "      <td>0.685008</td>\n",
       "      <td>0.049975</td>\n",
       "    </tr>\n",
       "  </tbody>\n",
       "</table>\n",
       "<p>334 rows × 5 columns</p>\n",
       "</div>"
      ],
      "text/plain": [
       "            0         1         2         3         4\n",
       "0    0.759486  0.125970  1.381771  0.067031 -0.063502\n",
       "1   -1.078297 -0.226563  1.548660 -0.744822  1.219025\n",
       "2    1.522011  0.362544 -1.134161 -2.237881  0.695436\n",
       "3   -1.615695 -0.542201 -0.959542  0.815509 -0.035562\n",
       "4   -1.071682 -1.656209  1.395331  0.189394  2.265449\n",
       "..        ...       ...       ...       ...       ...\n",
       "329  1.565215  2.942341  1.567243 -1.612987 -0.688493\n",
       "330 -0.810758  0.575572  1.645722 -1.215276 -0.850154\n",
       "331  2.497891 -0.361384 -1.369214  0.631368  0.055496\n",
       "332 -1.990923  0.508848 -0.202778 -0.184761  1.081045\n",
       "333  1.184133  0.694406 -0.031188  0.685008  0.049975\n",
       "\n",
       "[334 rows x 5 columns]"
      ]
     },
     "execution_count": 35,
     "metadata": {},
     "output_type": "execute_result"
    }
   ],
   "source": [
    "newdf"
   ]
  },
  {
   "cell_type": "code",
   "execution_count": 36,
   "metadata": {},
   "outputs": [
    {
     "data": {
      "text/html": [
       "<div>\n",
       "<style scoped>\n",
       "    .dataframe tbody tr th:only-of-type {\n",
       "        vertical-align: middle;\n",
       "    }\n",
       "\n",
       "    .dataframe tbody tr th {\n",
       "        vertical-align: top;\n",
       "    }\n",
       "\n",
       "    .dataframe thead th {\n",
       "        text-align: right;\n",
       "    }\n",
       "</style>\n",
       "<table border=\"1\" class=\"dataframe\">\n",
       "  <thead>\n",
       "    <tr style=\"text-align: right;\">\n",
       "      <th></th>\n",
       "      <th>0</th>\n",
       "      <th>1</th>\n",
       "      <th>2</th>\n",
       "      <th>3</th>\n",
       "      <th>4</th>\n",
       "    </tr>\n",
       "  </thead>\n",
       "  <tbody>\n",
       "    <tr>\n",
       "      <th>0</th>\n",
       "      <td>0.759486</td>\n",
       "      <td>0.125970</td>\n",
       "      <td>1.381771</td>\n",
       "      <td>0.067031</td>\n",
       "      <td>-0.063502</td>\n",
       "    </tr>\n",
       "    <tr>\n",
       "      <th>1</th>\n",
       "      <td>-1.078297</td>\n",
       "      <td>-0.226563</td>\n",
       "      <td>1.548660</td>\n",
       "      <td>-0.744822</td>\n",
       "      <td>1.219025</td>\n",
       "    </tr>\n",
       "    <tr>\n",
       "      <th>2</th>\n",
       "      <td>1.522011</td>\n",
       "      <td>0.362544</td>\n",
       "      <td>-1.134161</td>\n",
       "      <td>-2.237881</td>\n",
       "      <td>0.695436</td>\n",
       "    </tr>\n",
       "    <tr>\n",
       "      <th>3</th>\n",
       "      <td>-1.615695</td>\n",
       "      <td>-0.542201</td>\n",
       "      <td>-0.959542</td>\n",
       "      <td>0.815509</td>\n",
       "      <td>-0.035562</td>\n",
       "    </tr>\n",
       "    <tr>\n",
       "      <th>4</th>\n",
       "      <td>-1.071682</td>\n",
       "      <td>-1.656209</td>\n",
       "      <td>1.395331</td>\n",
       "      <td>0.189394</td>\n",
       "      <td>2.265449</td>\n",
       "    </tr>\n",
       "  </tbody>\n",
       "</table>\n",
       "</div>"
      ],
      "text/plain": [
       "          0         1         2         3         4\n",
       "0  0.759486  0.125970  1.381771  0.067031 -0.063502\n",
       "1 -1.078297 -0.226563  1.548660 -0.744822  1.219025\n",
       "2  1.522011  0.362544 -1.134161 -2.237881  0.695436\n",
       "3 -1.615695 -0.542201 -0.959542  0.815509 -0.035562\n",
       "4 -1.071682 -1.656209  1.395331  0.189394  2.265449"
      ]
     },
     "execution_count": 36,
     "metadata": {},
     "output_type": "execute_result"
    }
   ],
   "source": [
    "newdf.head()"
   ]
  },
  {
   "cell_type": "code",
   "execution_count": 37,
   "metadata": {},
   "outputs": [
    {
     "data": {
      "text/plain": [
       "pandas.core.frame.DataFrame"
      ]
     },
     "execution_count": 37,
     "metadata": {},
     "output_type": "execute_result"
    }
   ],
   "source": [
    "type(newdf)"
   ]
  },
  {
   "cell_type": "markdown",
   "metadata": {},
   "source": [
    "WHAT? is the difference between Series and a DataFrame"
   ]
  },
  {
   "cell_type": "code",
   "execution_count": 38,
   "metadata": {},
   "outputs": [
    {
     "data": {
      "text/html": [
       "<div>\n",
       "<style scoped>\n",
       "    .dataframe tbody tr th:only-of-type {\n",
       "        vertical-align: middle;\n",
       "    }\n",
       "\n",
       "    .dataframe tbody tr th {\n",
       "        vertical-align: top;\n",
       "    }\n",
       "\n",
       "    .dataframe thead th {\n",
       "        text-align: right;\n",
       "    }\n",
       "</style>\n",
       "<table border=\"1\" class=\"dataframe\">\n",
       "  <thead>\n",
       "    <tr style=\"text-align: right;\">\n",
       "      <th></th>\n",
       "      <th>0</th>\n",
       "      <th>1</th>\n",
       "      <th>2</th>\n",
       "      <th>3</th>\n",
       "      <th>4</th>\n",
       "    </tr>\n",
       "  </thead>\n",
       "  <tbody>\n",
       "    <tr>\n",
       "      <th>count</th>\n",
       "      <td>334.000000</td>\n",
       "      <td>334.000000</td>\n",
       "      <td>334.000000</td>\n",
       "      <td>334.000000</td>\n",
       "      <td>334.000000</td>\n",
       "    </tr>\n",
       "    <tr>\n",
       "      <th>mean</th>\n",
       "      <td>0.097859</td>\n",
       "      <td>0.046789</td>\n",
       "      <td>-0.011317</td>\n",
       "      <td>-0.056579</td>\n",
       "      <td>0.025820</td>\n",
       "    </tr>\n",
       "    <tr>\n",
       "      <th>std</th>\n",
       "      <td>1.000338</td>\n",
       "      <td>0.978938</td>\n",
       "      <td>0.994297</td>\n",
       "      <td>1.050611</td>\n",
       "      <td>0.993828</td>\n",
       "    </tr>\n",
       "    <tr>\n",
       "      <th>min</th>\n",
       "      <td>-2.565253</td>\n",
       "      <td>-3.868619</td>\n",
       "      <td>-2.844266</td>\n",
       "      <td>-3.483783</td>\n",
       "      <td>-2.564404</td>\n",
       "    </tr>\n",
       "    <tr>\n",
       "      <th>25%</th>\n",
       "      <td>-0.659163</td>\n",
       "      <td>-0.607692</td>\n",
       "      <td>-0.728207</td>\n",
       "      <td>-0.720052</td>\n",
       "      <td>-0.619355</td>\n",
       "    </tr>\n",
       "    <tr>\n",
       "      <th>50%</th>\n",
       "      <td>0.084738</td>\n",
       "      <td>0.067892</td>\n",
       "      <td>0.090424</td>\n",
       "      <td>-0.063719</td>\n",
       "      <td>0.030399</td>\n",
       "    </tr>\n",
       "    <tr>\n",
       "      <th>75%</th>\n",
       "      <td>0.820838</td>\n",
       "      <td>0.630595</td>\n",
       "      <td>0.712767</td>\n",
       "      <td>0.615377</td>\n",
       "      <td>0.694899</td>\n",
       "    </tr>\n",
       "    <tr>\n",
       "      <th>max</th>\n",
       "      <td>2.848318</td>\n",
       "      <td>2.942341</td>\n",
       "      <td>3.143289</td>\n",
       "      <td>3.086293</td>\n",
       "      <td>2.824346</td>\n",
       "    </tr>\n",
       "  </tbody>\n",
       "</table>\n",
       "</div>"
      ],
      "text/plain": [
       "                0           1           2           3           4\n",
       "count  334.000000  334.000000  334.000000  334.000000  334.000000\n",
       "mean     0.097859    0.046789   -0.011317   -0.056579    0.025820\n",
       "std      1.000338    0.978938    0.994297    1.050611    0.993828\n",
       "min     -2.565253   -3.868619   -2.844266   -3.483783   -2.564404\n",
       "25%     -0.659163   -0.607692   -0.728207   -0.720052   -0.619355\n",
       "50%      0.084738    0.067892    0.090424   -0.063719    0.030399\n",
       "75%      0.820838    0.630595    0.712767    0.615377    0.694899\n",
       "max      2.848318    2.942341    3.143289    3.086293    2.824346"
      ]
     },
     "execution_count": 38,
     "metadata": {},
     "output_type": "execute_result"
    }
   ],
   "source": [
    "newdf.describe()"
   ]
  },
  {
   "cell_type": "code",
   "execution_count": 54,
   "metadata": {},
   "outputs": [],
   "source": [
    "newdf=pd.DataFrame(np.random.randn(334,5),index=np.arange(334))"
   ]
  },
  {
   "cell_type": "code",
   "execution_count": 55,
   "metadata": {},
   "outputs": [
    {
     "data": {
      "text/html": [
       "<div>\n",
       "<style scoped>\n",
       "    .dataframe tbody tr th:only-of-type {\n",
       "        vertical-align: middle;\n",
       "    }\n",
       "\n",
       "    .dataframe tbody tr th {\n",
       "        vertical-align: top;\n",
       "    }\n",
       "\n",
       "    .dataframe thead th {\n",
       "        text-align: right;\n",
       "    }\n",
       "</style>\n",
       "<table border=\"1\" class=\"dataframe\">\n",
       "  <thead>\n",
       "    <tr style=\"text-align: right;\">\n",
       "      <th></th>\n",
       "      <th>0</th>\n",
       "      <th>1</th>\n",
       "      <th>2</th>\n",
       "      <th>3</th>\n",
       "      <th>4</th>\n",
       "    </tr>\n",
       "  </thead>\n",
       "  <tbody>\n",
       "    <tr>\n",
       "      <th>0</th>\n",
       "      <td>0.462235</td>\n",
       "      <td>-2.491634</td>\n",
       "      <td>-0.741976</td>\n",
       "      <td>-0.538931</td>\n",
       "      <td>1.204481</td>\n",
       "    </tr>\n",
       "    <tr>\n",
       "      <th>1</th>\n",
       "      <td>-1.440647</td>\n",
       "      <td>0.042219</td>\n",
       "      <td>-0.691365</td>\n",
       "      <td>-1.035839</td>\n",
       "      <td>-0.236952</td>\n",
       "    </tr>\n",
       "    <tr>\n",
       "      <th>2</th>\n",
       "      <td>2.062585</td>\n",
       "      <td>2.126278</td>\n",
       "      <td>1.890978</td>\n",
       "      <td>-1.168606</td>\n",
       "      <td>-1.339681</td>\n",
       "    </tr>\n",
       "    <tr>\n",
       "      <th>3</th>\n",
       "      <td>-2.188940</td>\n",
       "      <td>2.006235</td>\n",
       "      <td>0.144260</td>\n",
       "      <td>-1.089131</td>\n",
       "      <td>1.865385</td>\n",
       "    </tr>\n",
       "    <tr>\n",
       "      <th>4</th>\n",
       "      <td>0.275971</td>\n",
       "      <td>-1.960533</td>\n",
       "      <td>0.565052</td>\n",
       "      <td>0.248398</td>\n",
       "      <td>0.459878</td>\n",
       "    </tr>\n",
       "    <tr>\n",
       "      <th>...</th>\n",
       "      <td>...</td>\n",
       "      <td>...</td>\n",
       "      <td>...</td>\n",
       "      <td>...</td>\n",
       "      <td>...</td>\n",
       "    </tr>\n",
       "    <tr>\n",
       "      <th>329</th>\n",
       "      <td>0.491701</td>\n",
       "      <td>0.520316</td>\n",
       "      <td>0.511748</td>\n",
       "      <td>-0.015481</td>\n",
       "      <td>-1.226909</td>\n",
       "    </tr>\n",
       "    <tr>\n",
       "      <th>330</th>\n",
       "      <td>-0.157808</td>\n",
       "      <td>-0.224523</td>\n",
       "      <td>0.073483</td>\n",
       "      <td>1.646694</td>\n",
       "      <td>-1.412594</td>\n",
       "    </tr>\n",
       "    <tr>\n",
       "      <th>331</th>\n",
       "      <td>-2.310328</td>\n",
       "      <td>-1.100293</td>\n",
       "      <td>1.193816</td>\n",
       "      <td>1.314350</td>\n",
       "      <td>1.133659</td>\n",
       "    </tr>\n",
       "    <tr>\n",
       "      <th>332</th>\n",
       "      <td>-0.910391</td>\n",
       "      <td>1.215934</td>\n",
       "      <td>0.913701</td>\n",
       "      <td>1.137790</td>\n",
       "      <td>0.289194</td>\n",
       "    </tr>\n",
       "    <tr>\n",
       "      <th>333</th>\n",
       "      <td>-0.424027</td>\n",
       "      <td>-1.344687</td>\n",
       "      <td>-0.601363</td>\n",
       "      <td>-0.419414</td>\n",
       "      <td>-1.041386</td>\n",
       "    </tr>\n",
       "  </tbody>\n",
       "</table>\n",
       "<p>334 rows × 5 columns</p>\n",
       "</div>"
      ],
      "text/plain": [
       "            0         1         2         3         4\n",
       "0    0.462235 -2.491634 -0.741976 -0.538931  1.204481\n",
       "1   -1.440647  0.042219 -0.691365 -1.035839 -0.236952\n",
       "2    2.062585  2.126278  1.890978 -1.168606 -1.339681\n",
       "3   -2.188940  2.006235  0.144260 -1.089131  1.865385\n",
       "4    0.275971 -1.960533  0.565052  0.248398  0.459878\n",
       "..        ...       ...       ...       ...       ...\n",
       "329  0.491701  0.520316  0.511748 -0.015481 -1.226909\n",
       "330 -0.157808 -0.224523  0.073483  1.646694 -1.412594\n",
       "331 -2.310328 -1.100293  1.193816  1.314350  1.133659\n",
       "332 -0.910391  1.215934  0.913701  1.137790  0.289194\n",
       "333 -0.424027 -1.344687 -0.601363 -0.419414 -1.041386\n",
       "\n",
       "[334 rows x 5 columns]"
      ]
     },
     "execution_count": 55,
     "metadata": {},
     "output_type": "execute_result"
    }
   ],
   "source": [
    "newdf"
   ]
  },
  {
   "cell_type": "code",
   "execution_count": 56,
   "metadata": {},
   "outputs": [
    {
     "name": "stderr",
     "output_type": "stream",
     "text": [
      "C:\\Users\\vaish\\AppData\\Local\\Temp\\ipykernel_20984\\2879483040.py:1: FutureWarning: Setting an item of incompatible dtype is deprecated and will raise in a future error of pandas. Value 'vaish' has dtype incompatible with float64, please explicitly cast to a compatible dtype first.\n",
      "  newdf[0][0]=\"vaish\"\n"
     ]
    }
   ],
   "source": [
    "newdf[0][0]=\"vaish\""
   ]
  },
  {
   "cell_type": "code",
   "execution_count": 57,
   "metadata": {},
   "outputs": [
    {
     "data": {
      "text/html": [
       "<div>\n",
       "<style scoped>\n",
       "    .dataframe tbody tr th:only-of-type {\n",
       "        vertical-align: middle;\n",
       "    }\n",
       "\n",
       "    .dataframe tbody tr th {\n",
       "        vertical-align: top;\n",
       "    }\n",
       "\n",
       "    .dataframe thead th {\n",
       "        text-align: right;\n",
       "    }\n",
       "</style>\n",
       "<table border=\"1\" class=\"dataframe\">\n",
       "  <thead>\n",
       "    <tr style=\"text-align: right;\">\n",
       "      <th></th>\n",
       "      <th>0</th>\n",
       "      <th>1</th>\n",
       "      <th>2</th>\n",
       "      <th>3</th>\n",
       "      <th>4</th>\n",
       "    </tr>\n",
       "  </thead>\n",
       "  <tbody>\n",
       "    <tr>\n",
       "      <th>0</th>\n",
       "      <td>vaish</td>\n",
       "      <td>-2.491634</td>\n",
       "      <td>-0.741976</td>\n",
       "      <td>-0.538931</td>\n",
       "      <td>1.204481</td>\n",
       "    </tr>\n",
       "    <tr>\n",
       "      <th>1</th>\n",
       "      <td>-1.440647</td>\n",
       "      <td>0.042219</td>\n",
       "      <td>-0.691365</td>\n",
       "      <td>-1.035839</td>\n",
       "      <td>-0.236952</td>\n",
       "    </tr>\n",
       "    <tr>\n",
       "      <th>2</th>\n",
       "      <td>2.062585</td>\n",
       "      <td>2.126278</td>\n",
       "      <td>1.890978</td>\n",
       "      <td>-1.168606</td>\n",
       "      <td>-1.339681</td>\n",
       "    </tr>\n",
       "    <tr>\n",
       "      <th>3</th>\n",
       "      <td>-2.18894</td>\n",
       "      <td>2.006235</td>\n",
       "      <td>0.144260</td>\n",
       "      <td>-1.089131</td>\n",
       "      <td>1.865385</td>\n",
       "    </tr>\n",
       "    <tr>\n",
       "      <th>4</th>\n",
       "      <td>0.275971</td>\n",
       "      <td>-1.960533</td>\n",
       "      <td>0.565052</td>\n",
       "      <td>0.248398</td>\n",
       "      <td>0.459878</td>\n",
       "    </tr>\n",
       "    <tr>\n",
       "      <th>...</th>\n",
       "      <td>...</td>\n",
       "      <td>...</td>\n",
       "      <td>...</td>\n",
       "      <td>...</td>\n",
       "      <td>...</td>\n",
       "    </tr>\n",
       "    <tr>\n",
       "      <th>329</th>\n",
       "      <td>0.491701</td>\n",
       "      <td>0.520316</td>\n",
       "      <td>0.511748</td>\n",
       "      <td>-0.015481</td>\n",
       "      <td>-1.226909</td>\n",
       "    </tr>\n",
       "    <tr>\n",
       "      <th>330</th>\n",
       "      <td>-0.157808</td>\n",
       "      <td>-0.224523</td>\n",
       "      <td>0.073483</td>\n",
       "      <td>1.646694</td>\n",
       "      <td>-1.412594</td>\n",
       "    </tr>\n",
       "    <tr>\n",
       "      <th>331</th>\n",
       "      <td>-2.310328</td>\n",
       "      <td>-1.100293</td>\n",
       "      <td>1.193816</td>\n",
       "      <td>1.314350</td>\n",
       "      <td>1.133659</td>\n",
       "    </tr>\n",
       "    <tr>\n",
       "      <th>332</th>\n",
       "      <td>-0.910391</td>\n",
       "      <td>1.215934</td>\n",
       "      <td>0.913701</td>\n",
       "      <td>1.137790</td>\n",
       "      <td>0.289194</td>\n",
       "    </tr>\n",
       "    <tr>\n",
       "      <th>333</th>\n",
       "      <td>-0.424027</td>\n",
       "      <td>-1.344687</td>\n",
       "      <td>-0.601363</td>\n",
       "      <td>-0.419414</td>\n",
       "      <td>-1.041386</td>\n",
       "    </tr>\n",
       "  </tbody>\n",
       "</table>\n",
       "<p>334 rows × 5 columns</p>\n",
       "</div>"
      ],
      "text/plain": [
       "            0         1         2         3         4\n",
       "0       vaish -2.491634 -0.741976 -0.538931  1.204481\n",
       "1   -1.440647  0.042219 -0.691365 -1.035839 -0.236952\n",
       "2    2.062585  2.126278  1.890978 -1.168606 -1.339681\n",
       "3    -2.18894  2.006235  0.144260 -1.089131  1.865385\n",
       "4    0.275971 -1.960533  0.565052  0.248398  0.459878\n",
       "..        ...       ...       ...       ...       ...\n",
       "329  0.491701  0.520316  0.511748 -0.015481 -1.226909\n",
       "330 -0.157808 -0.224523  0.073483  1.646694 -1.412594\n",
       "331 -2.310328 -1.100293  1.193816  1.314350  1.133659\n",
       "332 -0.910391  1.215934  0.913701  1.137790  0.289194\n",
       "333 -0.424027 -1.344687 -0.601363 -0.419414 -1.041386\n",
       "\n",
       "[334 rows x 5 columns]"
      ]
     },
     "execution_count": 57,
     "metadata": {},
     "output_type": "execute_result"
    }
   ],
   "source": [
    "newdf"
   ]
  },
  {
   "cell_type": "code",
   "execution_count": 59,
   "metadata": {},
   "outputs": [
    {
     "data": {
      "text/plain": [
       "0     object\n",
       "1    float64\n",
       "2    float64\n",
       "3    float64\n",
       "4    float64\n",
       "dtype: object"
      ]
     },
     "execution_count": 59,
     "metadata": {},
     "output_type": "execute_result"
    }
   ],
   "source": [
    "newdf.dtypes#0 index is object becoz v changed it to string other all are float "
   ]
  },
  {
   "cell_type": "code",
   "execution_count": 60,
   "metadata": {},
   "outputs": [
    {
     "data": {
      "text/html": [
       "<div>\n",
       "<style scoped>\n",
       "    .dataframe tbody tr th:only-of-type {\n",
       "        vertical-align: middle;\n",
       "    }\n",
       "\n",
       "    .dataframe tbody tr th {\n",
       "        vertical-align: top;\n",
       "    }\n",
       "\n",
       "    .dataframe thead th {\n",
       "        text-align: right;\n",
       "    }\n",
       "</style>\n",
       "<table border=\"1\" class=\"dataframe\">\n",
       "  <thead>\n",
       "    <tr style=\"text-align: right;\">\n",
       "      <th></th>\n",
       "      <th>0</th>\n",
       "      <th>1</th>\n",
       "      <th>2</th>\n",
       "      <th>3</th>\n",
       "      <th>4</th>\n",
       "    </tr>\n",
       "  </thead>\n",
       "  <tbody>\n",
       "    <tr>\n",
       "      <th>0</th>\n",
       "      <td>vaish</td>\n",
       "      <td>-2.491634</td>\n",
       "      <td>-0.741976</td>\n",
       "      <td>-0.538931</td>\n",
       "      <td>1.204481</td>\n",
       "    </tr>\n",
       "    <tr>\n",
       "      <th>1</th>\n",
       "      <td>-1.440647</td>\n",
       "      <td>0.042219</td>\n",
       "      <td>-0.691365</td>\n",
       "      <td>-1.035839</td>\n",
       "      <td>-0.236952</td>\n",
       "    </tr>\n",
       "    <tr>\n",
       "      <th>2</th>\n",
       "      <td>2.062585</td>\n",
       "      <td>2.126278</td>\n",
       "      <td>1.890978</td>\n",
       "      <td>-1.168606</td>\n",
       "      <td>-1.339681</td>\n",
       "    </tr>\n",
       "    <tr>\n",
       "      <th>3</th>\n",
       "      <td>-2.18894</td>\n",
       "      <td>2.006235</td>\n",
       "      <td>0.144260</td>\n",
       "      <td>-1.089131</td>\n",
       "      <td>1.865385</td>\n",
       "    </tr>\n",
       "    <tr>\n",
       "      <th>4</th>\n",
       "      <td>0.275971</td>\n",
       "      <td>-1.960533</td>\n",
       "      <td>0.565052</td>\n",
       "      <td>0.248398</td>\n",
       "      <td>0.459878</td>\n",
       "    </tr>\n",
       "  </tbody>\n",
       "</table>\n",
       "</div>"
      ],
      "text/plain": [
       "          0         1         2         3         4\n",
       "0     vaish -2.491634 -0.741976 -0.538931  1.204481\n",
       "1 -1.440647  0.042219 -0.691365 -1.035839 -0.236952\n",
       "2  2.062585  2.126278  1.890978 -1.168606 -1.339681\n",
       "3  -2.18894  2.006235  0.144260 -1.089131  1.865385\n",
       "4  0.275971 -1.960533  0.565052  0.248398  0.459878"
      ]
     },
     "execution_count": 60,
     "metadata": {},
     "output_type": "execute_result"
    }
   ],
   "source": [
    "newdf.head()"
   ]
  },
  {
   "cell_type": "code",
   "execution_count": 61,
   "metadata": {},
   "outputs": [
    {
     "data": {
      "text/html": [
       "<div>\n",
       "<style scoped>\n",
       "    .dataframe tbody tr th:only-of-type {\n",
       "        vertical-align: middle;\n",
       "    }\n",
       "\n",
       "    .dataframe tbody tr th {\n",
       "        vertical-align: top;\n",
       "    }\n",
       "\n",
       "    .dataframe thead th {\n",
       "        text-align: right;\n",
       "    }\n",
       "</style>\n",
       "<table border=\"1\" class=\"dataframe\">\n",
       "  <thead>\n",
       "    <tr style=\"text-align: right;\">\n",
       "      <th></th>\n",
       "      <th>0</th>\n",
       "      <th>1</th>\n",
       "      <th>2</th>\n",
       "      <th>3</th>\n",
       "      <th>4</th>\n",
       "    </tr>\n",
       "  </thead>\n",
       "  <tbody>\n",
       "    <tr>\n",
       "      <th>329</th>\n",
       "      <td>0.491701</td>\n",
       "      <td>0.520316</td>\n",
       "      <td>0.511748</td>\n",
       "      <td>-0.015481</td>\n",
       "      <td>-1.226909</td>\n",
       "    </tr>\n",
       "    <tr>\n",
       "      <th>330</th>\n",
       "      <td>-0.157808</td>\n",
       "      <td>-0.224523</td>\n",
       "      <td>0.073483</td>\n",
       "      <td>1.646694</td>\n",
       "      <td>-1.412594</td>\n",
       "    </tr>\n",
       "    <tr>\n",
       "      <th>331</th>\n",
       "      <td>-2.310328</td>\n",
       "      <td>-1.100293</td>\n",
       "      <td>1.193816</td>\n",
       "      <td>1.314350</td>\n",
       "      <td>1.133659</td>\n",
       "    </tr>\n",
       "    <tr>\n",
       "      <th>332</th>\n",
       "      <td>-0.910391</td>\n",
       "      <td>1.215934</td>\n",
       "      <td>0.913701</td>\n",
       "      <td>1.137790</td>\n",
       "      <td>0.289194</td>\n",
       "    </tr>\n",
       "    <tr>\n",
       "      <th>333</th>\n",
       "      <td>-0.424027</td>\n",
       "      <td>-1.344687</td>\n",
       "      <td>-0.601363</td>\n",
       "      <td>-0.419414</td>\n",
       "      <td>-1.041386</td>\n",
       "    </tr>\n",
       "  </tbody>\n",
       "</table>\n",
       "</div>"
      ],
      "text/plain": [
       "            0         1         2         3         4\n",
       "329  0.491701  0.520316  0.511748 -0.015481 -1.226909\n",
       "330 -0.157808 -0.224523  0.073483  1.646694 -1.412594\n",
       "331 -2.310328 -1.100293  1.193816  1.314350  1.133659\n",
       "332 -0.910391  1.215934  0.913701  1.137790  0.289194\n",
       "333 -0.424027 -1.344687 -0.601363 -0.419414 -1.041386"
      ]
     },
     "execution_count": 61,
     "metadata": {},
     "output_type": "execute_result"
    }
   ],
   "source": [
    "newdf.tail()"
   ]
  },
  {
   "cell_type": "code",
   "execution_count": 62,
   "metadata": {},
   "outputs": [
    {
     "data": {
      "text/plain": [
       "0     object\n",
       "1    float64\n",
       "2    float64\n",
       "3    float64\n",
       "4    float64\n",
       "dtype: object"
      ]
     },
     "execution_count": 62,
     "metadata": {},
     "output_type": "execute_result"
    }
   ],
   "source": [
    "newdf.dtypes"
   ]
  },
  {
   "cell_type": "code",
   "execution_count": 63,
   "metadata": {},
   "outputs": [
    {
     "data": {
      "text/plain": [
       "Index([  0,   1,   2,   3,   4,   5,   6,   7,   8,   9,\n",
       "       ...\n",
       "       324, 325, 326, 327, 328, 329, 330, 331, 332, 333],\n",
       "      dtype='int32', length=334)"
      ]
     },
     "execution_count": 63,
     "metadata": {},
     "output_type": "execute_result"
    }
   ],
   "source": [
    "newdf.index"
   ]
  },
  {
   "cell_type": "code",
   "execution_count": 64,
   "metadata": {},
   "outputs": [
    {
     "data": {
      "text/plain": [
       "RangeIndex(start=0, stop=5, step=1)"
      ]
     },
     "execution_count": 64,
     "metadata": {},
     "output_type": "execute_result"
    }
   ],
   "source": [
    "newdf.columns"
   ]
  },
  {
   "cell_type": "code",
   "execution_count": 66,
   "metadata": {},
   "outputs": [
    {
     "data": {
      "text/plain": [
       "<bound method DataFrame.rpow of             0         1         2         3         4\n",
       "0       vaish -2.491634 -0.741976 -0.538931  1.204481\n",
       "1   -1.440647  0.042219 -0.691365 -1.035839 -0.236952\n",
       "2    2.062585  2.126278  1.890978 -1.168606 -1.339681\n",
       "3    -2.18894  2.006235  0.144260 -1.089131  1.865385\n",
       "4    0.275971 -1.960533  0.565052  0.248398  0.459878\n",
       "..        ...       ...       ...       ...       ...\n",
       "329  0.491701  0.520316  0.511748 -0.015481 -1.226909\n",
       "330 -0.157808 -0.224523  0.073483  1.646694 -1.412594\n",
       "331 -2.310328 -1.100293  1.193816  1.314350  1.133659\n",
       "332 -0.910391  1.215934  0.913701  1.137790  0.289194\n",
       "333 -0.424027 -1.344687 -0.601363 -0.419414 -1.041386\n",
       "\n",
       "[334 rows x 5 columns]>"
      ]
     },
     "execution_count": 66,
     "metadata": {},
     "output_type": "execute_result"
    }
   ],
   "source": [
    "newdf.rpow"
   ]
  },
  {
   "cell_type": "markdown",
   "metadata": {},
   "source": [
    "Coverting Dataframe to numpy array "
   ]
  },
  {
   "cell_type": "code",
   "execution_count": 67,
   "metadata": {},
   "outputs": [
    {
     "data": {
      "text/plain": [
       "array([['vaish', -2.4916337413232417, -0.7419761091885306,\n",
       "        -0.5389310358657149, 1.2044812750474876],\n",
       "       [-1.4406468107887132, 0.042219214033133765, -0.6913646547566556,\n",
       "        -1.035838881127542, -0.23695222048308948],\n",
       "       [2.0625846903999547, 2.126278379106034, 1.8909781875484466,\n",
       "        -1.1686056565619949, -1.339681088734066],\n",
       "       ...,\n",
       "       [-2.310328104234599, -1.1002932941473236, 1.1938164886970635,\n",
       "        1.314350311331807, 1.1336590538485156],\n",
       "       [-0.9103908556957283, 1.21593350068226, 0.9137010060210231,\n",
       "        1.1377898265787803, 0.28919371662018284],\n",
       "       [-0.4240272851590597, -1.3446865601580091, -0.6013633974155259,\n",
       "        -0.4194137126804587, -1.0413860233002008]], dtype=object)"
      ]
     },
     "execution_count": 67,
     "metadata": {},
     "output_type": "execute_result"
    }
   ],
   "source": [
    "newdf.to_numpy()"
   ]
  },
  {
   "cell_type": "code",
   "execution_count": 68,
   "metadata": {},
   "outputs": [],
   "source": [
    "# U want to change sumthg then \n",
    "newdf[0][1]=5"
   ]
  },
  {
   "cell_type": "code",
   "execution_count": 69,
   "metadata": {},
   "outputs": [
    {
     "data": {
      "text/html": [
       "<div>\n",
       "<style scoped>\n",
       "    .dataframe tbody tr th:only-of-type {\n",
       "        vertical-align: middle;\n",
       "    }\n",
       "\n",
       "    .dataframe tbody tr th {\n",
       "        vertical-align: top;\n",
       "    }\n",
       "\n",
       "    .dataframe thead th {\n",
       "        text-align: right;\n",
       "    }\n",
       "</style>\n",
       "<table border=\"1\" class=\"dataframe\">\n",
       "  <thead>\n",
       "    <tr style=\"text-align: right;\">\n",
       "      <th></th>\n",
       "      <th>0</th>\n",
       "      <th>1</th>\n",
       "      <th>2</th>\n",
       "      <th>3</th>\n",
       "      <th>4</th>\n",
       "    </tr>\n",
       "  </thead>\n",
       "  <tbody>\n",
       "    <tr>\n",
       "      <th>0</th>\n",
       "      <td>vaish</td>\n",
       "      <td>-2.491634</td>\n",
       "      <td>-0.741976</td>\n",
       "      <td>-0.538931</td>\n",
       "      <td>1.204481</td>\n",
       "    </tr>\n",
       "    <tr>\n",
       "      <th>1</th>\n",
       "      <td>5</td>\n",
       "      <td>0.042219</td>\n",
       "      <td>-0.691365</td>\n",
       "      <td>-1.035839</td>\n",
       "      <td>-0.236952</td>\n",
       "    </tr>\n",
       "    <tr>\n",
       "      <th>2</th>\n",
       "      <td>2.062585</td>\n",
       "      <td>2.126278</td>\n",
       "      <td>1.890978</td>\n",
       "      <td>-1.168606</td>\n",
       "      <td>-1.339681</td>\n",
       "    </tr>\n",
       "    <tr>\n",
       "      <th>3</th>\n",
       "      <td>-2.18894</td>\n",
       "      <td>2.006235</td>\n",
       "      <td>0.144260</td>\n",
       "      <td>-1.089131</td>\n",
       "      <td>1.865385</td>\n",
       "    </tr>\n",
       "    <tr>\n",
       "      <th>4</th>\n",
       "      <td>0.275971</td>\n",
       "      <td>-1.960533</td>\n",
       "      <td>0.565052</td>\n",
       "      <td>0.248398</td>\n",
       "      <td>0.459878</td>\n",
       "    </tr>\n",
       "    <tr>\n",
       "      <th>...</th>\n",
       "      <td>...</td>\n",
       "      <td>...</td>\n",
       "      <td>...</td>\n",
       "      <td>...</td>\n",
       "      <td>...</td>\n",
       "    </tr>\n",
       "    <tr>\n",
       "      <th>329</th>\n",
       "      <td>0.491701</td>\n",
       "      <td>0.520316</td>\n",
       "      <td>0.511748</td>\n",
       "      <td>-0.015481</td>\n",
       "      <td>-1.226909</td>\n",
       "    </tr>\n",
       "    <tr>\n",
       "      <th>330</th>\n",
       "      <td>-0.157808</td>\n",
       "      <td>-0.224523</td>\n",
       "      <td>0.073483</td>\n",
       "      <td>1.646694</td>\n",
       "      <td>-1.412594</td>\n",
       "    </tr>\n",
       "    <tr>\n",
       "      <th>331</th>\n",
       "      <td>-2.310328</td>\n",
       "      <td>-1.100293</td>\n",
       "      <td>1.193816</td>\n",
       "      <td>1.314350</td>\n",
       "      <td>1.133659</td>\n",
       "    </tr>\n",
       "    <tr>\n",
       "      <th>332</th>\n",
       "      <td>-0.910391</td>\n",
       "      <td>1.215934</td>\n",
       "      <td>0.913701</td>\n",
       "      <td>1.137790</td>\n",
       "      <td>0.289194</td>\n",
       "    </tr>\n",
       "    <tr>\n",
       "      <th>333</th>\n",
       "      <td>-0.424027</td>\n",
       "      <td>-1.344687</td>\n",
       "      <td>-0.601363</td>\n",
       "      <td>-0.419414</td>\n",
       "      <td>-1.041386</td>\n",
       "    </tr>\n",
       "  </tbody>\n",
       "</table>\n",
       "<p>334 rows × 5 columns</p>\n",
       "</div>"
      ],
      "text/plain": [
       "            0         1         2         3         4\n",
       "0       vaish -2.491634 -0.741976 -0.538931  1.204481\n",
       "1           5  0.042219 -0.691365 -1.035839 -0.236952\n",
       "2    2.062585  2.126278  1.890978 -1.168606 -1.339681\n",
       "3    -2.18894  2.006235  0.144260 -1.089131  1.865385\n",
       "4    0.275971 -1.960533  0.565052  0.248398  0.459878\n",
       "..        ...       ...       ...       ...       ...\n",
       "329  0.491701  0.520316  0.511748 -0.015481 -1.226909\n",
       "330 -0.157808 -0.224523  0.073483  1.646694 -1.412594\n",
       "331 -2.310328 -1.100293  1.193816  1.314350  1.133659\n",
       "332 -0.910391  1.215934  0.913701  1.137790  0.289194\n",
       "333 -0.424027 -1.344687 -0.601363 -0.419414 -1.041386\n",
       "\n",
       "[334 rows x 5 columns]"
      ]
     },
     "execution_count": 69,
     "metadata": {},
     "output_type": "execute_result"
    }
   ],
   "source": [
    "newdf"
   ]
  },
  {
   "cell_type": "code",
   "execution_count": 70,
   "metadata": {},
   "outputs": [],
   "source": [
    "newdf[0][0]=7"
   ]
  },
  {
   "cell_type": "code",
   "execution_count": 1,
   "metadata": {},
   "outputs": [
    {
     "ename": "NameError",
     "evalue": "name 'newdf' is not defined",
     "output_type": "error",
     "traceback": [
      "\u001b[1;31m---------------------------------------------------------------------------\u001b[0m",
      "\u001b[1;31mNameError\u001b[0m                                 Traceback (most recent call last)",
      "\u001b[1;32mc:\\Users\\vaish\\OneDrive\\Documents\\python\\HarryPython\\Pandas\\Harrypandas.ipynb Cell 45\u001b[0m line \u001b[0;36m1\n\u001b[1;32m----> <a href='vscode-notebook-cell:/c%3A/Users/vaish/OneDrive/Documents/python/HarryPython/Pandas/Harrypandas.ipynb#X62sZmlsZQ%3D%3D?line=0'>1</a>\u001b[0m newdf\n",
      "\u001b[1;31mNameError\u001b[0m: name 'newdf' is not defined"
     ]
    }
   ],
   "source": [
    "newdf"
   ]
  },
  {
   "cell_type": "code",
   "execution_count": 73,
   "metadata": {},
   "outputs": [
    {
     "data": {
      "text/html": [
       "<div>\n",
       "<style scoped>\n",
       "    .dataframe tbody tr th:only-of-type {\n",
       "        vertical-align: middle;\n",
       "    }\n",
       "\n",
       "    .dataframe tbody tr th {\n",
       "        vertical-align: top;\n",
       "    }\n",
       "\n",
       "    .dataframe thead th {\n",
       "        text-align: right;\n",
       "    }\n",
       "</style>\n",
       "<table border=\"1\" class=\"dataframe\">\n",
       "  <thead>\n",
       "    <tr style=\"text-align: right;\">\n",
       "      <th></th>\n",
       "      <th>0</th>\n",
       "      <th>1</th>\n",
       "      <th>2</th>\n",
       "      <th>3</th>\n",
       "      <th>4</th>\n",
       "      <th>5</th>\n",
       "      <th>6</th>\n",
       "      <th>7</th>\n",
       "      <th>8</th>\n",
       "      <th>9</th>\n",
       "      <th>...</th>\n",
       "      <th>324</th>\n",
       "      <th>325</th>\n",
       "      <th>326</th>\n",
       "      <th>327</th>\n",
       "      <th>328</th>\n",
       "      <th>329</th>\n",
       "      <th>330</th>\n",
       "      <th>331</th>\n",
       "      <th>332</th>\n",
       "      <th>333</th>\n",
       "    </tr>\n",
       "  </thead>\n",
       "  <tbody>\n",
       "    <tr>\n",
       "      <th>0</th>\n",
       "      <td>7</td>\n",
       "      <td>5</td>\n",
       "      <td>2.062585</td>\n",
       "      <td>-2.18894</td>\n",
       "      <td>0.275971</td>\n",
       "      <td>-1.569983</td>\n",
       "      <td>0.04422</td>\n",
       "      <td>1.399636</td>\n",
       "      <td>-0.864521</td>\n",
       "      <td>0.775517</td>\n",
       "      <td>...</td>\n",
       "      <td>-0.154951</td>\n",
       "      <td>0.905088</td>\n",
       "      <td>0.972633</td>\n",
       "      <td>0.410445</td>\n",
       "      <td>0.804035</td>\n",
       "      <td>0.491701</td>\n",
       "      <td>-0.157808</td>\n",
       "      <td>-2.310328</td>\n",
       "      <td>-0.910391</td>\n",
       "      <td>-0.424027</td>\n",
       "    </tr>\n",
       "    <tr>\n",
       "      <th>1</th>\n",
       "      <td>-2.491634</td>\n",
       "      <td>0.042219</td>\n",
       "      <td>2.126278</td>\n",
       "      <td>2.006235</td>\n",
       "      <td>-1.960533</td>\n",
       "      <td>-1.546343</td>\n",
       "      <td>0.458127</td>\n",
       "      <td>0.79216</td>\n",
       "      <td>-0.385095</td>\n",
       "      <td>-1.201409</td>\n",
       "      <td>...</td>\n",
       "      <td>0.714562</td>\n",
       "      <td>-0.961179</td>\n",
       "      <td>0.482484</td>\n",
       "      <td>-2.592449</td>\n",
       "      <td>-0.520028</td>\n",
       "      <td>0.520316</td>\n",
       "      <td>-0.224523</td>\n",
       "      <td>-1.100293</td>\n",
       "      <td>1.215934</td>\n",
       "      <td>-1.344687</td>\n",
       "    </tr>\n",
       "    <tr>\n",
       "      <th>2</th>\n",
       "      <td>-0.741976</td>\n",
       "      <td>-0.691365</td>\n",
       "      <td>1.890978</td>\n",
       "      <td>0.14426</td>\n",
       "      <td>0.565052</td>\n",
       "      <td>-0.697388</td>\n",
       "      <td>1.5049</td>\n",
       "      <td>2.366619</td>\n",
       "      <td>-1.008781</td>\n",
       "      <td>-0.106363</td>\n",
       "      <td>...</td>\n",
       "      <td>0.263382</td>\n",
       "      <td>-0.365793</td>\n",
       "      <td>-0.324967</td>\n",
       "      <td>0.828125</td>\n",
       "      <td>1.00999</td>\n",
       "      <td>0.511748</td>\n",
       "      <td>0.073483</td>\n",
       "      <td>1.193816</td>\n",
       "      <td>0.913701</td>\n",
       "      <td>-0.601363</td>\n",
       "    </tr>\n",
       "    <tr>\n",
       "      <th>3</th>\n",
       "      <td>-0.538931</td>\n",
       "      <td>-1.035839</td>\n",
       "      <td>-1.168606</td>\n",
       "      <td>-1.089131</td>\n",
       "      <td>0.248398</td>\n",
       "      <td>0.407086</td>\n",
       "      <td>-0.297199</td>\n",
       "      <td>-0.47983</td>\n",
       "      <td>0.466677</td>\n",
       "      <td>-0.425477</td>\n",
       "      <td>...</td>\n",
       "      <td>-1.473003</td>\n",
       "      <td>-1.100513</td>\n",
       "      <td>0.191971</td>\n",
       "      <td>-0.001062</td>\n",
       "      <td>-0.830172</td>\n",
       "      <td>-0.015481</td>\n",
       "      <td>1.646694</td>\n",
       "      <td>1.31435</td>\n",
       "      <td>1.13779</td>\n",
       "      <td>-0.419414</td>\n",
       "    </tr>\n",
       "    <tr>\n",
       "      <th>4</th>\n",
       "      <td>1.204481</td>\n",
       "      <td>-0.236952</td>\n",
       "      <td>-1.339681</td>\n",
       "      <td>1.865385</td>\n",
       "      <td>0.459878</td>\n",
       "      <td>-1.685498</td>\n",
       "      <td>1.797189</td>\n",
       "      <td>-0.439765</td>\n",
       "      <td>1.133623</td>\n",
       "      <td>-0.888932</td>\n",
       "      <td>...</td>\n",
       "      <td>-0.340394</td>\n",
       "      <td>0.611544</td>\n",
       "      <td>-0.180514</td>\n",
       "      <td>1.012068</td>\n",
       "      <td>-0.110579</td>\n",
       "      <td>-1.226909</td>\n",
       "      <td>-1.412594</td>\n",
       "      <td>1.133659</td>\n",
       "      <td>0.289194</td>\n",
       "      <td>-1.041386</td>\n",
       "    </tr>\n",
       "  </tbody>\n",
       "</table>\n",
       "<p>5 rows × 334 columns</p>\n",
       "</div>"
      ],
      "text/plain": [
       "        0         1         2         3         4         5         6    \\\n",
       "0         7         5  2.062585  -2.18894  0.275971 -1.569983   0.04422   \n",
       "1 -2.491634  0.042219  2.126278  2.006235 -1.960533 -1.546343  0.458127   \n",
       "2 -0.741976 -0.691365  1.890978   0.14426  0.565052 -0.697388    1.5049   \n",
       "3 -0.538931 -1.035839 -1.168606 -1.089131  0.248398  0.407086 -0.297199   \n",
       "4  1.204481 -0.236952 -1.339681  1.865385  0.459878 -1.685498  1.797189   \n",
       "\n",
       "        7         8         9    ...       324       325       326       327  \\\n",
       "0  1.399636 -0.864521  0.775517  ... -0.154951  0.905088  0.972633  0.410445   \n",
       "1   0.79216 -0.385095 -1.201409  ...  0.714562 -0.961179  0.482484 -2.592449   \n",
       "2  2.366619 -1.008781 -0.106363  ...  0.263382 -0.365793 -0.324967  0.828125   \n",
       "3  -0.47983  0.466677 -0.425477  ... -1.473003 -1.100513  0.191971 -0.001062   \n",
       "4 -0.439765  1.133623 -0.888932  ... -0.340394  0.611544 -0.180514  1.012068   \n",
       "\n",
       "        328       329       330       331       332       333  \n",
       "0  0.804035  0.491701 -0.157808 -2.310328 -0.910391 -0.424027  \n",
       "1 -0.520028  0.520316 -0.224523 -1.100293  1.215934 -1.344687  \n",
       "2   1.00999  0.511748  0.073483  1.193816  0.913701 -0.601363  \n",
       "3 -0.830172 -0.015481  1.646694   1.31435   1.13779 -0.419414  \n",
       "4 -0.110579 -1.226909 -1.412594  1.133659  0.289194 -1.041386  \n",
       "\n",
       "[5 rows x 334 columns]"
      ]
     },
     "execution_count": 73,
     "metadata": {},
     "output_type": "execute_result"
    }
   ],
   "source": [
    "newdf.T#rows to columns and viceversa "
   ]
  },
  {
   "cell_type": "code",
   "execution_count": 74,
   "metadata": {},
   "outputs": [
    {
     "data": {
      "text/html": [
       "<div>\n",
       "<style scoped>\n",
       "    .dataframe tbody tr th:only-of-type {\n",
       "        vertical-align: middle;\n",
       "    }\n",
       "\n",
       "    .dataframe tbody tr th {\n",
       "        vertical-align: top;\n",
       "    }\n",
       "\n",
       "    .dataframe thead th {\n",
       "        text-align: right;\n",
       "    }\n",
       "</style>\n",
       "<table border=\"1\" class=\"dataframe\">\n",
       "  <thead>\n",
       "    <tr style=\"text-align: right;\">\n",
       "      <th></th>\n",
       "      <th>0</th>\n",
       "      <th>1</th>\n",
       "      <th>2</th>\n",
       "      <th>3</th>\n",
       "      <th>4</th>\n",
       "    </tr>\n",
       "  </thead>\n",
       "  <tbody>\n",
       "    <tr>\n",
       "      <th>0</th>\n",
       "      <td>7</td>\n",
       "      <td>-2.491634</td>\n",
       "      <td>-0.741976</td>\n",
       "      <td>-0.538931</td>\n",
       "      <td>1.204481</td>\n",
       "    </tr>\n",
       "    <tr>\n",
       "      <th>1</th>\n",
       "      <td>5</td>\n",
       "      <td>0.042219</td>\n",
       "      <td>-0.691365</td>\n",
       "      <td>-1.035839</td>\n",
       "      <td>-0.236952</td>\n",
       "    </tr>\n",
       "    <tr>\n",
       "      <th>2</th>\n",
       "      <td>2.062585</td>\n",
       "      <td>2.126278</td>\n",
       "      <td>1.890978</td>\n",
       "      <td>-1.168606</td>\n",
       "      <td>-1.339681</td>\n",
       "    </tr>\n",
       "    <tr>\n",
       "      <th>3</th>\n",
       "      <td>-2.18894</td>\n",
       "      <td>2.006235</td>\n",
       "      <td>0.144260</td>\n",
       "      <td>-1.089131</td>\n",
       "      <td>1.865385</td>\n",
       "    </tr>\n",
       "    <tr>\n",
       "      <th>4</th>\n",
       "      <td>0.275971</td>\n",
       "      <td>-1.960533</td>\n",
       "      <td>0.565052</td>\n",
       "      <td>0.248398</td>\n",
       "      <td>0.459878</td>\n",
       "    </tr>\n",
       "    <tr>\n",
       "      <th>...</th>\n",
       "      <td>...</td>\n",
       "      <td>...</td>\n",
       "      <td>...</td>\n",
       "      <td>...</td>\n",
       "      <td>...</td>\n",
       "    </tr>\n",
       "    <tr>\n",
       "      <th>329</th>\n",
       "      <td>0.491701</td>\n",
       "      <td>0.520316</td>\n",
       "      <td>0.511748</td>\n",
       "      <td>-0.015481</td>\n",
       "      <td>-1.226909</td>\n",
       "    </tr>\n",
       "    <tr>\n",
       "      <th>330</th>\n",
       "      <td>-0.157808</td>\n",
       "      <td>-0.224523</td>\n",
       "      <td>0.073483</td>\n",
       "      <td>1.646694</td>\n",
       "      <td>-1.412594</td>\n",
       "    </tr>\n",
       "    <tr>\n",
       "      <th>331</th>\n",
       "      <td>-2.310328</td>\n",
       "      <td>-1.100293</td>\n",
       "      <td>1.193816</td>\n",
       "      <td>1.314350</td>\n",
       "      <td>1.133659</td>\n",
       "    </tr>\n",
       "    <tr>\n",
       "      <th>332</th>\n",
       "      <td>-0.910391</td>\n",
       "      <td>1.215934</td>\n",
       "      <td>0.913701</td>\n",
       "      <td>1.137790</td>\n",
       "      <td>0.289194</td>\n",
       "    </tr>\n",
       "    <tr>\n",
       "      <th>333</th>\n",
       "      <td>-0.424027</td>\n",
       "      <td>-1.344687</td>\n",
       "      <td>-0.601363</td>\n",
       "      <td>-0.419414</td>\n",
       "      <td>-1.041386</td>\n",
       "    </tr>\n",
       "  </tbody>\n",
       "</table>\n",
       "<p>334 rows × 5 columns</p>\n",
       "</div>"
      ],
      "text/plain": [
       "            0         1         2         3         4\n",
       "0           7 -2.491634 -0.741976 -0.538931  1.204481\n",
       "1           5  0.042219 -0.691365 -1.035839 -0.236952\n",
       "2    2.062585  2.126278  1.890978 -1.168606 -1.339681\n",
       "3    -2.18894  2.006235  0.144260 -1.089131  1.865385\n",
       "4    0.275971 -1.960533  0.565052  0.248398  0.459878\n",
       "..        ...       ...       ...       ...       ...\n",
       "329  0.491701  0.520316  0.511748 -0.015481 -1.226909\n",
       "330 -0.157808 -0.224523  0.073483  1.646694 -1.412594\n",
       "331 -2.310328 -1.100293  1.193816  1.314350  1.133659\n",
       "332 -0.910391  1.215934  0.913701  1.137790  0.289194\n",
       "333 -0.424027 -1.344687 -0.601363 -0.419414 -1.041386\n",
       "\n",
       "[334 rows x 5 columns]"
      ]
     },
     "execution_count": 74,
     "metadata": {},
     "output_type": "execute_result"
    }
   ],
   "source": [
    "newdf.sort_index(axis=0)"
   ]
  },
  {
   "cell_type": "code",
   "execution_count": 75,
   "metadata": {},
   "outputs": [
    {
     "data": {
      "text/html": [
       "<div>\n",
       "<style scoped>\n",
       "    .dataframe tbody tr th:only-of-type {\n",
       "        vertical-align: middle;\n",
       "    }\n",
       "\n",
       "    .dataframe tbody tr th {\n",
       "        vertical-align: top;\n",
       "    }\n",
       "\n",
       "    .dataframe thead th {\n",
       "        text-align: right;\n",
       "    }\n",
       "</style>\n",
       "<table border=\"1\" class=\"dataframe\">\n",
       "  <thead>\n",
       "    <tr style=\"text-align: right;\">\n",
       "      <th></th>\n",
       "      <th>0</th>\n",
       "      <th>1</th>\n",
       "      <th>2</th>\n",
       "      <th>3</th>\n",
       "      <th>4</th>\n",
       "    </tr>\n",
       "  </thead>\n",
       "  <tbody>\n",
       "    <tr>\n",
       "      <th>333</th>\n",
       "      <td>-0.424027</td>\n",
       "      <td>-1.344687</td>\n",
       "      <td>-0.601363</td>\n",
       "      <td>-0.419414</td>\n",
       "      <td>-1.041386</td>\n",
       "    </tr>\n",
       "    <tr>\n",
       "      <th>332</th>\n",
       "      <td>-0.910391</td>\n",
       "      <td>1.215934</td>\n",
       "      <td>0.913701</td>\n",
       "      <td>1.137790</td>\n",
       "      <td>0.289194</td>\n",
       "    </tr>\n",
       "    <tr>\n",
       "      <th>331</th>\n",
       "      <td>-2.310328</td>\n",
       "      <td>-1.100293</td>\n",
       "      <td>1.193816</td>\n",
       "      <td>1.314350</td>\n",
       "      <td>1.133659</td>\n",
       "    </tr>\n",
       "    <tr>\n",
       "      <th>330</th>\n",
       "      <td>-0.157808</td>\n",
       "      <td>-0.224523</td>\n",
       "      <td>0.073483</td>\n",
       "      <td>1.646694</td>\n",
       "      <td>-1.412594</td>\n",
       "    </tr>\n",
       "    <tr>\n",
       "      <th>329</th>\n",
       "      <td>0.491701</td>\n",
       "      <td>0.520316</td>\n",
       "      <td>0.511748</td>\n",
       "      <td>-0.015481</td>\n",
       "      <td>-1.226909</td>\n",
       "    </tr>\n",
       "    <tr>\n",
       "      <th>...</th>\n",
       "      <td>...</td>\n",
       "      <td>...</td>\n",
       "      <td>...</td>\n",
       "      <td>...</td>\n",
       "      <td>...</td>\n",
       "    </tr>\n",
       "    <tr>\n",
       "      <th>4</th>\n",
       "      <td>0.275971</td>\n",
       "      <td>-1.960533</td>\n",
       "      <td>0.565052</td>\n",
       "      <td>0.248398</td>\n",
       "      <td>0.459878</td>\n",
       "    </tr>\n",
       "    <tr>\n",
       "      <th>3</th>\n",
       "      <td>-2.18894</td>\n",
       "      <td>2.006235</td>\n",
       "      <td>0.144260</td>\n",
       "      <td>-1.089131</td>\n",
       "      <td>1.865385</td>\n",
       "    </tr>\n",
       "    <tr>\n",
       "      <th>2</th>\n",
       "      <td>2.062585</td>\n",
       "      <td>2.126278</td>\n",
       "      <td>1.890978</td>\n",
       "      <td>-1.168606</td>\n",
       "      <td>-1.339681</td>\n",
       "    </tr>\n",
       "    <tr>\n",
       "      <th>1</th>\n",
       "      <td>5</td>\n",
       "      <td>0.042219</td>\n",
       "      <td>-0.691365</td>\n",
       "      <td>-1.035839</td>\n",
       "      <td>-0.236952</td>\n",
       "    </tr>\n",
       "    <tr>\n",
       "      <th>0</th>\n",
       "      <td>7</td>\n",
       "      <td>-2.491634</td>\n",
       "      <td>-0.741976</td>\n",
       "      <td>-0.538931</td>\n",
       "      <td>1.204481</td>\n",
       "    </tr>\n",
       "  </tbody>\n",
       "</table>\n",
       "<p>334 rows × 5 columns</p>\n",
       "</div>"
      ],
      "text/plain": [
       "            0         1         2         3         4\n",
       "333 -0.424027 -1.344687 -0.601363 -0.419414 -1.041386\n",
       "332 -0.910391  1.215934  0.913701  1.137790  0.289194\n",
       "331 -2.310328 -1.100293  1.193816  1.314350  1.133659\n",
       "330 -0.157808 -0.224523  0.073483  1.646694 -1.412594\n",
       "329  0.491701  0.520316  0.511748 -0.015481 -1.226909\n",
       "..        ...       ...       ...       ...       ...\n",
       "4    0.275971 -1.960533  0.565052  0.248398  0.459878\n",
       "3    -2.18894  2.006235  0.144260 -1.089131  1.865385\n",
       "2    2.062585  2.126278  1.890978 -1.168606 -1.339681\n",
       "1           5  0.042219 -0.691365 -1.035839 -0.236952\n",
       "0           7 -2.491634 -0.741976 -0.538931  1.204481\n",
       "\n",
       "[334 rows x 5 columns]"
      ]
     },
     "execution_count": 75,
     "metadata": {},
     "output_type": "execute_result"
    }
   ],
   "source": [
    "newdf.sort_index(axis=0,ascending=False)"
   ]
  },
  {
   "cell_type": "code",
   "execution_count": 1,
   "metadata": {},
   "outputs": [
    {
     "ename": "NameError",
     "evalue": "name 'newdf' is not defined",
     "output_type": "error",
     "traceback": [
      "\u001b[1;31m---------------------------------------------------------------------------\u001b[0m",
      "\u001b[1;31mNameError\u001b[0m                                 Traceback (most recent call last)",
      "\u001b[1;32mc:\\Users\\vaish\\OneDrive\\Documents\\python\\HarryPython\\Pandas\\Harrypandas.ipynb Cell 49\u001b[0m line \u001b[0;36m1\n\u001b[1;32m----> <a href='vscode-notebook-cell:/c%3A/Users/vaish/OneDrive/Documents/python/HarryPython/Pandas/Harrypandas.ipynb#X66sZmlsZQ%3D%3D?line=0'>1</a>\u001b[0m newdf\u001b[39m.\u001b[39msort_index(axis\u001b[39m=\u001b[39m\u001b[39m1\u001b[39m,ascending\u001b[39m=\u001b[39m\u001b[39mFalse\u001b[39;00m)\u001b[39m#aorting ulta \u001b[39;00m\n",
      "\u001b[1;31mNameError\u001b[0m: name 'newdf' is not defined"
     ]
    }
   ],
   "source": [
    "newdf.sort_index(axis=1,ascending=False)#aorting ulta "
   ]
  },
  {
   "cell_type": "code",
   "execution_count": 2,
   "metadata": {},
   "outputs": [
    {
     "ename": "NameError",
     "evalue": "name 'newdf' is not defined",
     "output_type": "error",
     "traceback": [
      "\u001b[1;31m---------------------------------------------------------------------------\u001b[0m",
      "\u001b[1;31mNameError\u001b[0m                                 Traceback (most recent call last)",
      "\u001b[1;32mc:\\Users\\vaish\\OneDrive\\Documents\\python\\HarryPython\\Pandas\\Harrypandas.ipynb Cell 50\u001b[0m line \u001b[0;36m1\n\u001b[1;32m----> <a href='vscode-notebook-cell:/c%3A/Users/vaish/OneDrive/Documents/python/HarryPython/Pandas/Harrypandas.ipynb#Y100sZmlsZQ%3D%3D?line=0'>1</a>\u001b[0m newdf\u001b[39m.\u001b[39mhead()\n",
      "\u001b[1;31mNameError\u001b[0m: name 'newdf' is not defined"
     ]
    }
   ],
   "source": [
    "newdf.head()"
   ]
  },
  {
   "cell_type": "code",
   "execution_count": 78,
   "metadata": {},
   "outputs": [
    {
     "data": {
      "text/plain": [
       "0             7\n",
       "1             5\n",
       "2      2.062585\n",
       "3      -2.18894\n",
       "4      0.275971\n",
       "         ...   \n",
       "329    0.491701\n",
       "330   -0.157808\n",
       "331   -2.310328\n",
       "332   -0.910391\n",
       "333   -0.424027\n",
       "Name: 0, Length: 334, dtype: object"
      ]
     },
     "execution_count": 78,
     "metadata": {},
     "output_type": "execute_result"
    }
   ],
   "source": [
    "#To get one column\n",
    "newdf[0]"
   ]
  },
  {
   "cell_type": "code",
   "execution_count": 3,
   "metadata": {},
   "outputs": [
    {
     "ename": "NameError",
     "evalue": "name 'newdf' is not defined",
     "output_type": "error",
     "traceback": [
      "\u001b[1;31m---------------------------------------------------------------------------\u001b[0m",
      "\u001b[1;31mNameError\u001b[0m                                 Traceback (most recent call last)",
      "\u001b[1;32mc:\\Users\\vaish\\OneDrive\\Documents\\python\\HarryPython\\Pandas\\Harrypandas.ipynb Cell 52\u001b[0m line \u001b[0;36m1\n\u001b[1;32m----> <a href='vscode-notebook-cell:/c%3A/Users/vaish/OneDrive/Documents/python/HarryPython/Pandas/Harrypandas.ipynb#Y102sZmlsZQ%3D%3D?line=0'>1</a>\u001b[0m \u001b[39mtype\u001b[39m(newdf[\u001b[39m0\u001b[39m])\n",
      "\u001b[1;31mNameError\u001b[0m: name 'newdf' is not defined"
     ]
    }
   ],
   "source": [
    "type(newdf[0])"
   ]
  },
  {
   "cell_type": "code",
   "execution_count": 4,
   "metadata": {},
   "outputs": [],
   "source": [
    "import pandas as pd\n",
    "import numpy as np\n",
    "newdf1=pd.DataFrame(np.random.randn(334,5),index=np.arange(334))"
   ]
  },
  {
   "cell_type": "code",
   "execution_count": 6,
   "metadata": {},
   "outputs": [
    {
     "data": {
      "text/html": [
       "<div>\n",
       "<style scoped>\n",
       "    .dataframe tbody tr th:only-of-type {\n",
       "        vertical-align: middle;\n",
       "    }\n",
       "\n",
       "    .dataframe tbody tr th {\n",
       "        vertical-align: top;\n",
       "    }\n",
       "\n",
       "    .dataframe thead th {\n",
       "        text-align: right;\n",
       "    }\n",
       "</style>\n",
       "<table border=\"1\" class=\"dataframe\">\n",
       "  <thead>\n",
       "    <tr style=\"text-align: right;\">\n",
       "      <th></th>\n",
       "      <th>0</th>\n",
       "      <th>1</th>\n",
       "      <th>2</th>\n",
       "      <th>3</th>\n",
       "      <th>4</th>\n",
       "    </tr>\n",
       "  </thead>\n",
       "  <tbody>\n",
       "    <tr>\n",
       "      <th>0</th>\n",
       "      <td>1.523938</td>\n",
       "      <td>1.975195</td>\n",
       "      <td>0.361525</td>\n",
       "      <td>1.231264</td>\n",
       "      <td>0.971751</td>\n",
       "    </tr>\n",
       "    <tr>\n",
       "      <th>1</th>\n",
       "      <td>-0.185538</td>\n",
       "      <td>1.150623</td>\n",
       "      <td>-0.802431</td>\n",
       "      <td>0.129389</td>\n",
       "      <td>0.847630</td>\n",
       "    </tr>\n",
       "    <tr>\n",
       "      <th>2</th>\n",
       "      <td>-0.041005</td>\n",
       "      <td>0.792139</td>\n",
       "      <td>0.444280</td>\n",
       "      <td>0.799887</td>\n",
       "      <td>0.811367</td>\n",
       "    </tr>\n",
       "    <tr>\n",
       "      <th>3</th>\n",
       "      <td>0.693879</td>\n",
       "      <td>1.370991</td>\n",
       "      <td>-0.629071</td>\n",
       "      <td>0.036340</td>\n",
       "      <td>1.119635</td>\n",
       "    </tr>\n",
       "    <tr>\n",
       "      <th>4</th>\n",
       "      <td>-0.183872</td>\n",
       "      <td>-1.044371</td>\n",
       "      <td>1.130194</td>\n",
       "      <td>-0.747252</td>\n",
       "      <td>0.718424</td>\n",
       "    </tr>\n",
       "    <tr>\n",
       "      <th>...</th>\n",
       "      <td>...</td>\n",
       "      <td>...</td>\n",
       "      <td>...</td>\n",
       "      <td>...</td>\n",
       "      <td>...</td>\n",
       "    </tr>\n",
       "    <tr>\n",
       "      <th>329</th>\n",
       "      <td>-0.235624</td>\n",
       "      <td>-1.096214</td>\n",
       "      <td>-0.286869</td>\n",
       "      <td>-1.406716</td>\n",
       "      <td>0.032991</td>\n",
       "    </tr>\n",
       "    <tr>\n",
       "      <th>330</th>\n",
       "      <td>-1.241192</td>\n",
       "      <td>-0.034329</td>\n",
       "      <td>-0.719632</td>\n",
       "      <td>-2.037884</td>\n",
       "      <td>0.061355</td>\n",
       "    </tr>\n",
       "    <tr>\n",
       "      <th>331</th>\n",
       "      <td>-0.241716</td>\n",
       "      <td>-1.593651</td>\n",
       "      <td>0.077649</td>\n",
       "      <td>-0.470016</td>\n",
       "      <td>-0.942002</td>\n",
       "    </tr>\n",
       "    <tr>\n",
       "      <th>332</th>\n",
       "      <td>-0.059928</td>\n",
       "      <td>0.231316</td>\n",
       "      <td>0.936044</td>\n",
       "      <td>0.408868</td>\n",
       "      <td>-0.806767</td>\n",
       "    </tr>\n",
       "    <tr>\n",
       "      <th>333</th>\n",
       "      <td>0.183009</td>\n",
       "      <td>-1.253140</td>\n",
       "      <td>-0.010703</td>\n",
       "      <td>-0.297425</td>\n",
       "      <td>1.103451</td>\n",
       "    </tr>\n",
       "  </tbody>\n",
       "</table>\n",
       "<p>334 rows × 5 columns</p>\n",
       "</div>"
      ],
      "text/plain": [
       "            0         1         2         3         4\n",
       "0    1.523938  1.975195  0.361525  1.231264  0.971751\n",
       "1   -0.185538  1.150623 -0.802431  0.129389  0.847630\n",
       "2   -0.041005  0.792139  0.444280  0.799887  0.811367\n",
       "3    0.693879  1.370991 -0.629071  0.036340  1.119635\n",
       "4   -0.183872 -1.044371  1.130194 -0.747252  0.718424\n",
       "..        ...       ...       ...       ...       ...\n",
       "329 -0.235624 -1.096214 -0.286869 -1.406716  0.032991\n",
       "330 -1.241192 -0.034329 -0.719632 -2.037884  0.061355\n",
       "331 -0.241716 -1.593651  0.077649 -0.470016 -0.942002\n",
       "332 -0.059928  0.231316  0.936044  0.408868 -0.806767\n",
       "333  0.183009 -1.253140 -0.010703 -0.297425  1.103451\n",
       "\n",
       "[334 rows x 5 columns]"
      ]
     },
     "execution_count": 6,
     "metadata": {},
     "output_type": "execute_result"
    }
   ],
   "source": [
    "newdf1"
   ]
  },
  {
   "cell_type": "code",
   "execution_count": 7,
   "metadata": {},
   "outputs": [
    {
     "data": {
      "text/plain": [
       "pandas.core.series.Series"
      ]
     },
     "execution_count": 7,
     "metadata": {},
     "output_type": "execute_result"
    }
   ],
   "source": [
    "type(newdf1[1])"
   ]
  },
  {
   "cell_type": "code",
   "execution_count": 8,
   "metadata": {},
   "outputs": [],
   "source": [
    "newdf2=newdf1"
   ]
  },
  {
   "cell_type": "code",
   "execution_count": 9,
   "metadata": {},
   "outputs": [],
   "source": [
    "newdf1[0][1]=78654"
   ]
  },
  {
   "cell_type": "code",
   "execution_count": 2,
   "metadata": {},
   "outputs": [
    {
     "ename": "NameError",
     "evalue": "name 'newdf2' is not defined",
     "output_type": "error",
     "traceback": [
      "\u001b[1;31m---------------------------------------------------------------------------\u001b[0m",
      "\u001b[1;31mNameError\u001b[0m                                 Traceback (most recent call last)",
      "\u001b[1;32mc:\\Users\\vaish\\OneDrive\\Documents\\python\\HarryPython\\Pandas\\Harrypandas.ipynb Cell 58\u001b[0m line \u001b[0;36m1\n\u001b[1;32m----> <a href='vscode-notebook-cell:/c%3A/Users/vaish/OneDrive/Documents/python/HarryPython/Pandas/Harrypandas.ipynb#Y111sZmlsZQ%3D%3D?line=0'>1</a>\u001b[0m newdf2\n",
      "\u001b[1;31mNameError\u001b[0m: name 'newdf2' is not defined"
     ]
    }
   ],
   "source": [
    "newdf2"
   ]
  },
  {
   "cell_type": "code",
   "execution_count": null,
   "metadata": {},
   "outputs": [],
   "source": []
  }
 ],
 "metadata": {
  "kernelspec": {
   "display_name": "Python 3",
   "language": "python",
   "name": "python3"
  },
  "language_info": {
   "codemirror_mode": {
    "name": "ipython",
    "version": 3
   },
   "file_extension": ".py",
   "mimetype": "text/x-python",
   "name": "python",
   "nbconvert_exporter": "python",
   "pygments_lexer": "ipython3",
   "version": "3.11.5"
  }
 },
 "nbformat": 4,
 "nbformat_minor": 2
}
